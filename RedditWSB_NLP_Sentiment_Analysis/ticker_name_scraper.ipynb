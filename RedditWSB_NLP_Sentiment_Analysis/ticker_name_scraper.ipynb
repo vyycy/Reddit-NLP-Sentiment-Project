{
 "cells": [
  {
   "cell_type": "code",
   "execution_count": 7,
   "metadata": {},
   "outputs": [],
   "source": [
    "import requests\n",
    "import pandas as _pd\n",
    "from bs4 import BeautifulSoup\n",
    "import string"
   ]
  },
  {
   "cell_type": "code",
   "execution_count": 3,
   "metadata": {},
   "outputs": [],
   "source": [
    "df_ticker = _pd.DataFrame()\n",
    "for letter in list(string.ascii_lowercase):\n",
    "    url = \"https://www.poweropt.com/optionable.asp?fl=\"+ letter\n",
    "    r = requests.get(url)\n",
    "    data = r.text\n",
    "    soup = BeautifulSoup(data, \"html5lib\")\n",
    "#  find all tables in the webpage\n",
    "    table=soup.find_all('table')[1]\n",
    "#     find  place start with TR in HTML element defines a row of cells in a table\n",
    "    rows=table.find_all('tr')[1:]\n",
    "\n",
    "    data = {\n",
    "    'ticker' : [],\n",
    "    'name' : []\n",
    "    }\n",
    "    \n",
    "    for row in rows:\n",
    "        cols = row.find_all('td')\n",
    "        str_stock = cols[0].get_text().replace(\"\\n\",\"\").strip()\n",
    "        ticker = str_stock[str_stock.find(\"(\")+1:str_stock.find(\")\")]\n",
    "        name = str_stock[str_stock.find(\")\")+1:].strip()\n",
    "        data['ticker'].append(ticker)\n",
    "        data['name'].append(name)\n",
    "        \n",
    "    df_temp = _pd.DataFrame(data)\n",
    "    df_ticker = df_ticker.append(df_temp)"
   ]
  },
  {
   "cell_type": "code",
   "execution_count": 4,
   "metadata": {},
   "outputs": [],
   "source": [
    "df_ticker = df_ticker.reset_index(drop = True)"
   ]
  },
  {
   "cell_type": "code",
   "execution_count": 6,
   "metadata": {},
   "outputs": [],
   "source": [
    "df_ticker.to_csv(\"tickers.csv\",index = False)"
   ]
  },
  {
   "cell_type": "code",
   "execution_count": 8,
   "metadata": {},
   "outputs": [],
   "source": [
    "df_ticker = _pd.read_csv(\"tickers.csv\")"
   ]
  },
  {
   "cell_type": "code",
   "execution_count": null,
   "metadata": {},
   "outputs": [],
   "source": []
  }
 ],
 "metadata": {
  "kernelspec": {
   "display_name": "Python 3",
   "language": "python",
   "name": "python3"
  },
  "language_info": {
   "codemirror_mode": {
    "name": "ipython",
    "version": 3
   },
   "file_extension": ".py",
   "mimetype": "text/x-python",
   "name": "python",
   "nbconvert_exporter": "python",
   "pygments_lexer": "ipython3",
   "version": "3.8.5"
  }
 },
 "nbformat": 4,
 "nbformat_minor": 4
}
